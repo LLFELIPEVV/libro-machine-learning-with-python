{
 "cells": [
  {
   "cell_type": "markdown",
   "id": "70e685e8",
   "metadata": {},
   "source": [
    "# Modelos Lineales"
   ]
  },
  {
   "cell_type": "markdown",
   "id": "5f77d310",
   "metadata": {},
   "source": [
    "Los modelos lineales son una clase de modelos que se utilizan ampliamente en la practica y se han estudiado ampliamente en las ultimas decadas. Los modelos lineales hacen una prediccion utilizando una funcion lineal de las caracteristicas de entrada."
   ]
  },
  {
   "cell_type": "markdown",
   "id": "2bd42758",
   "metadata": {},
   "source": [
    "## Modelos lineales para la regresion"
   ]
  },
  {
   "cell_type": "markdown",
   "id": "23262423",
   "metadata": {},
   "source": [
    "Para la regresion, la formula de prediccion general para un modelo lineal es la siguiente:"
   ]
  },
  {
   "cell_type": "markdown",
   "id": "a40aa4bc",
   "metadata": {},
   "source": [
    "ŷ = w[0] * x[0] + w[1] * x[1] + ... + w[p] * x[p] + b"
   ]
  },
  {
   "cell_type": "markdown",
   "id": "8dce0d8c",
   "metadata": {},
   "source": [
    "En esta formula desde x[0] hasta x[p] son las caracteristicas de 1 solo punto de datos mientras que w y b son los parametros del modelo que se aprenden, y ŷ es la prediccion que hara el modelo."
   ]
  }
 ],
 "metadata": {
  "kernelspec": {
   "display_name": ".venv",
   "language": "python",
   "name": "python3"
  },
  "language_info": {
   "name": "python",
   "version": "3.13.2"
  }
 },
 "nbformat": 4,
 "nbformat_minor": 5
}
